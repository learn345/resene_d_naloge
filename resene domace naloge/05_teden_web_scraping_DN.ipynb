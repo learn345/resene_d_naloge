{
 "cells": [
  {
   "cell_type": "code",
   "execution_count": 2,
   "metadata": {},
   "outputs": [],
   "source": [
    "import numpy as np\n",
    "import pandas as pd\n",
    "import requests\n",
    "from bs4 import BeautifulSoup"
   ]
  },
  {
   "cell_type": "markdown",
   "metadata": {},
   "source": [
    "# Web Scraping"
   ]
  },
  {
   "cell_type": "markdown",
   "metadata": {},
   "source": [
    "- **Spletna stran:** https://en.wikipedia.org/wiki/List_of_countries_and_dependencies_by_population\n",
    "- **Tabela:** Sovereign states and dependencies by population        "
   ]
  },
  {
   "cell_type": "markdown",
   "metadata": {},
   "source": [
    "### Naloga\n",
    "\n",
    "Tabelo na zgornji strani pretvorite v urejen pandas dataframe, ki vsebuje naslednje stolpce (pozor na ustrezen tip in index):\n",
    "- Rank: (Index) - int\n",
    "- Country name: - object\n",
    "- Population - int\n",
    "- Date - Datetime\n",
    "- % of world population - int\n"
   ]
  },
  {
   "cell_type": "code",
   "execution_count": 6,
   "metadata": {
    "scrolled": true
   },
   "outputs": [
    {
     "data": {
      "text/html": [
       "<div>\n",
       "<style scoped>\n",
       "    .dataframe tbody tr th:only-of-type {\n",
       "        vertical-align: middle;\n",
       "    }\n",
       "\n",
       "    .dataframe tbody tr th {\n",
       "        vertical-align: top;\n",
       "    }\n",
       "\n",
       "    .dataframe thead th {\n",
       "        text-align: right;\n",
       "    }\n",
       "</style>\n",
       "<table border=\"1\" class=\"dataframe\">\n",
       "  <thead>\n",
       "    <tr style=\"text-align: right;\">\n",
       "      <th></th>\n",
       "      <th>Rank</th>\n",
       "      <th>Country name</th>\n",
       "      <th>Population</th>\n",
       "      <th>Date</th>\n",
       "      <th>% of world population</th>\n",
       "    </tr>\n",
       "  </thead>\n",
       "  <tbody>\n",
       "    <tr>\n",
       "      <th>235</th>\n",
       "      <td>194</td>\n",
       "      <td>Niue (NZ)</td>\n",
       "      <td>1520</td>\n",
       "      <td>2018-07-01</td>\n",
       "      <td>0</td>\n",
       "    </tr>\n",
       "    <tr>\n",
       "      <th>236</th>\n",
       "      <td>194</td>\n",
       "      <td>Tokelau (NZ)</td>\n",
       "      <td>1400</td>\n",
       "      <td>2018-07-01</td>\n",
       "      <td>0</td>\n",
       "    </tr>\n",
       "    <tr>\n",
       "      <th>237</th>\n",
       "      <td>195</td>\n",
       "      <td>Vatican City</td>\n",
       "      <td>799</td>\n",
       "      <td>2019-07-01</td>\n",
       "      <td>0</td>\n",
       "    </tr>\n",
       "    <tr>\n",
       "      <th>238</th>\n",
       "      <td>195</td>\n",
       "      <td>Cocos (Keeling) Islands (Australia)</td>\n",
       "      <td>538</td>\n",
       "      <td>2018-06-30</td>\n",
       "      <td>0</td>\n",
       "    </tr>\n",
       "    <tr>\n",
       "      <th>239</th>\n",
       "      <td>195</td>\n",
       "      <td>Pitcairn Islands (UK)</td>\n",
       "      <td>50</td>\n",
       "      <td>2019-01-01</td>\n",
       "      <td>0</td>\n",
       "    </tr>\n",
       "  </tbody>\n",
       "</table>\n",
       "</div>"
      ],
      "text/plain": [
       "     Rank                         Country name  Population       Date  \\\n",
       "235   194                            Niue (NZ)        1520 2018-07-01   \n",
       "236   194                         Tokelau (NZ)        1400 2018-07-01   \n",
       "237   195                         Vatican City         799 2019-07-01   \n",
       "238   195  Cocos (Keeling) Islands (Australia)         538 2018-06-30   \n",
       "239   195                Pitcairn Islands (UK)          50 2019-01-01   \n",
       "\n",
       "     % of world population  \n",
       "235                      0  \n",
       "236                      0  \n",
       "237                      0  \n",
       "238                      0  \n",
       "239                      0  "
      ]
     },
     "execution_count": 6,
     "metadata": {},
     "output_type": "execute_result"
    }
   ],
   "source": [
    "import pandas as pd\n",
    "import numpy as np\n",
    "import requests\n",
    "from bs4 import BeautifulSoup\n",
    "\n",
    "url_cntr = 'https://en.wikipedia.org/wiki/List_of_countries_and_dependencies_by_population'\n",
    "t = requests.get(url_cntr)\n",
    "html_content = t.content\n",
    "html_soup = BeautifulSoup(html_content, 'html.parser')\n",
    "sov_tables = html_soup.find('table', class_=\"wikitable sortable\")\n",
    "df0 = pd.read_html(str(sov_tables), na_values='–')\n",
    "df0 = df0[0]\n",
    "df0.head()\n",
    "df1 = df0.drop(\"Source\", axis=1)\n",
    "df1.head()\n",
    "df2 = df1.rename(columns={'Country(or dependent territory)': 'Country name', '% of worldpopulation': '% of world population'})\n",
    "df2['Rank'] = df2['Rank'].dropna()\n",
    "df2['Rank'] = df2['Rank'].fillna(0)\n",
    "df2['Rank'] = df2['Rank'].astype(int)\n",
    "df2['Date'] = pd.to_datetime(df2['Date'])\n",
    "df2['% of world population'] = df2['% of world population'].str.rstrip('%') \n",
    "df2['% of world population'] = df2['% of world population'].astype(float)\n",
    "df2['% of world population'] = df2['% of world population'].astype(int)\n",
    "df2['Country name'] = df2['Country name'].replace({'\\[Note 2]':'','\\[Note 3]':'','\\[Note 4]':'', '\\[Note 5]':'', '\\[Note 6]':'', '\\[Note 7]':'', '\\[Note 8]':'', '\\[Note 9]':'', '\\[Note 10]':'', '\\[Note 11]':'', '\\[Note 12]':'', '\\[Note 13]':'','\\[Note 14]':'', '\\[Note 15]':'', '\\[Note 16]':'', '\\[Note 17]':'', '\\[Note 18]':'', '\\[Note 19]':'', '\\[Note 20]':'', '\\[Note 21]':'', '\\[Note 22]':''}, regex = True)\n",
    "df2['Rank'] = df2['Rank'].apply(lambda x: np.NaN if x==0 else x)\n",
    "df3 = df2.ffill(axis = 0) \n",
    "df3['Rank'] = df3['Rank'].astype(int)\n",
    "df3.dtypes\n",
    "df3.head()\n",
    "df3.tail()"
   ]
  },
  {
   "cell_type": "code",
   "execution_count": null,
   "metadata": {},
   "outputs": [],
   "source": []
  }
 ],
 "metadata": {
  "kernelspec": {
   "display_name": "Python 3",
   "language": "python",
   "name": "python3"
  },
  "language_info": {
   "codemirror_mode": {
    "name": "ipython",
    "version": 3
   },
   "file_extension": ".py",
   "mimetype": "text/x-python",
   "name": "python",
   "nbconvert_exporter": "python",
   "pygments_lexer": "ipython3",
   "version": "3.7.3"
  }
 },
 "nbformat": 4,
 "nbformat_minor": 2
}
